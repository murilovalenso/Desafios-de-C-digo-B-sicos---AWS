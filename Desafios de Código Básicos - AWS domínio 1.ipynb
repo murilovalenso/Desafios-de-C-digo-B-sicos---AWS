{
  "nbformat": 4,
  "nbformat_minor": 0,
  "metadata": {
    "colab": {
      "provenance": []
    },
    "kernelspec": {
      "name": "python3",
      "display_name": "Python 3"
    },
    "language_info": {
      "name": "python"
    }
  },
  "cells": [
    {
      "cell_type": "markdown",
      "source": [
        "Desafios de Código Básicos - AWS domínio 1"
      ],
      "metadata": {
        "id": "WPMLX-taZjUJ"
      }
    },
    {
      "cell_type": "markdown",
      "source": [
        "Desafio 1: Benefício da nuvem AWS:"
      ],
      "metadata": {
        "id": "xKS2ArQ4ZrsI"
      }
    },
    {
      "cell_type": "code",
      "execution_count": null,
      "metadata": {
        "id": "lxmXMrWqZeME"
      },
      "outputs": [],
      "source": [
        "# Recebe a Entrada do usuário e armazena na variável \"entrada\"\n",
        "entrada = input()\n",
        "\n",
        "\n",
        "# Função responsável por receber uma vantagem e retornar sua respectiva descrição.\n",
        "def descrever_vantagem(vantagem):\n",
        "    if vantagem == \"economia de custos\":\n",
        "        return \"otimizacao de gastos por meio de modelos de precos flexiveis\"\n",
        "\n",
        "    # TODO: Preencha corretamente a descrição de cada vantagem, considerando as condições abaixo e Saídas possíveis:\n",
        "    elif vantagem == \"infraestrutura global\":\n",
        "        return \"fornecer recursos eficientemente em qualquer lugar do mundo\"\n",
        "\n",
        "    elif vantagem == \"alta disponibilidade\":\n",
        "        return \"garantia de que os recursos estejam sempre disponiveis\"\n",
        "\n",
        "    elif vantagem == \"elasticidade\":\n",
        "        return \"capacidade de dimensionar recursos conforme a demanda\"\n",
        "\n",
        "    elif  vantagem == \"agilidade\":\n",
        "        return \"capacidade de desenvolver, testar e implantar rapidamente\"\n",
        "\n",
        "# Imprime a descrição da vantagem recebida na \"entrada\" através da função \"descrever_vantagem\".\n",
        "print(descrever_vantagem(entrada))"
      ]
    },
    {
      "cell_type": "markdown",
      "source": [
        "Desafio 2: Os pilares do AWS Well-Architetured Framework"
      ],
      "metadata": {
        "id": "yUXRTa8xZ1gG"
      }
    },
    {
      "cell_type": "code",
      "source": [
        "# Recebe a Entrada do usuário e armazena na variável \"entrada\"\n",
        "entrada = input()\n",
        "\n",
        "\n",
        "# Função responsável por receber um pilar e retornar sua respectiva descrição.\n",
        "def descrever_pilar(pilar):\n",
        "    if pilar == \"excelencia operacional\":\n",
        "        return \"execucao e monitoramento de sistemas e melhoria continua\"\n",
        "\n",
        "    # TODO: Preencha corretamente a descrição de cada pilar, considerando as condições abaixo e Saídas possíveis:\n",
        "\n",
        "    elif pilar == \"seguranca\":\n",
        "        return \"protecao de informacoes e sistemas\"\n",
        "\n",
        "    elif pilar == \"confiabilidade\":\n",
        "        return \"capacidade dos sistemas de executar as funcoes pretendidas\"\n",
        "\n",
        "    elif pilar == \"eficiencia de performance\":\n",
        "        return \"alocacao eficaz e otimizada de recursos de TI e computacao\"\n",
        "\n",
        "    elif pilar == \"otimizacao de custos\":\n",
        "        return \"obtencao do melhor retorno sobre o investimento em recursos\"\n",
        "\n",
        "    elif pilar == \"sustentabilidade\":\n",
        "        return \"reducao do impacto ambiental dos sistemas na nuvem\"\n",
        "\n",
        "# Imprime a descrição do pilar recebido na \"entrada\" através da função \"descrever_pilar\".\n",
        "print(descrever_pilar(entrada))"
      ],
      "metadata": {
        "id": "hrHessIkZ4jr"
      },
      "execution_count": null,
      "outputs": []
    },
    {
      "cell_type": "markdown",
      "source": [
        "Desafio 3: Escolhendo a estratégia de migração"
      ],
      "metadata": {
        "id": "i26P7IUcZ74H"
      }
    },
    {
      "cell_type": "code",
      "source": [
        "# Recebe a Entrada do usuário e armazena na variável \"entrada\"\n",
        "entrada = input()\n",
        "\n",
        "\n",
        "# Função responsável por receber um cenário e retornar a estratégia indicada.\n",
        "def escolher_estrategia(cenario):\n",
        "    if \"aplicativo a ser descomissionado\" in cenario or \"sem valor comercial\" in cenario:\n",
        "        return \"retire\"\n",
        "\n",
        "    # TODO: Preencha corretamente a estrátegia indicada para cada cenário, considerando as condições abaixo e Saídas possíveis:\n",
        "\n",
        "\n",
        "    elif \"manter aplicativos no ambiente de origem\" in cenario or \"adiar sua migracao para a nuvem\" in cenario:\n",
        "        return \"retain\"\n",
        "\n",
        "    elif \"mover aplicativos para a nuvem sem modifica-los\" in cenario or \"lift and shift\" in cenario:\n",
        "        return \"replatform\"\n",
        "\n",
        "    elif \"transferir servidores ou instancias para outra plataforma na nuvem\" in cenario:\n",
        "        return \"rehost\"\n",
        "\n",
        "    elif \"substituir o aplicativo por uma versao ou produto diferente\" in cenario:\n",
        "        return \"repurchase\"\n",
        "\n",
        "    elif \"mover o aplicativo para a nuvem\" in cenario or \"introduzir otimizacoes para opera-lo de forma eficiente\" in cenario:\n",
        "        return \"relocate\"\n",
        "\n",
        "    elif \"modificar a arquitetura do aplicativo\" in cenario or \"aproveitar os recursos nativos para melhorar agilidade\" in cenario:\n",
        "        return \"refactor or re-architect\"\n",
        "\n",
        "# Imprime a estratégia indicada para o cenário recebido na \"entrada\" através da função \"escolher_estrategia\".\n",
        "print(escolher_estrategia(entrada))"
      ],
      "metadata": {
        "id": "x-2BrmJBZ-hF"
      },
      "execution_count": null,
      "outputs": []
    }
  ]
}