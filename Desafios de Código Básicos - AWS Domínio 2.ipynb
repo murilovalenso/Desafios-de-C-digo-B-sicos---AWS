{
  "nbformat": 4,
  "nbformat_minor": 0,
  "metadata": {
    "colab": {
      "provenance": []
    },
    "kernelspec": {
      "name": "python3",
      "display_name": "Python 3"
    },
    "language_info": {
      "name": "python"
    }
  },
  "cells": [
    {
      "cell_type": "markdown",
      "source": [
        "Desafios de Código Básicos - AWS Domínio 2"
      ],
      "metadata": {
        "id": "WPMLX-taZjUJ"
      }
    },
    {
      "cell_type": "markdown",
      "source": [
        "Desafio 1: Indicando a categoria de serviço de nuvem"
      ],
      "metadata": {
        "id": "xKS2ArQ4ZrsI"
      }
    },
    {
      "cell_type": "code",
      "execution_count": null,
      "metadata": {
        "id": "lxmXMrWqZeME"
      },
      "outputs": [],
      "source": [
        "# Recebe a Entrada do usuário e armazena na variável \"entrada\"\n",
        "entrada = input()\n",
        "\n",
        "\n",
        "# Função responsável por receber uma afirmação e retornar a categoria do serviço à qual se refere.\n",
        "def escolher_categoria(afirmacao):\n",
        "    if \"nivel mais baixo de abstracao\" in afirmacao:\n",
        "        return \"iaas\"\n",
        "\n",
        "    # TODO: Preencha corretamente a categoria de serviço indicada para cada afirmação, considerando as condições abaixo e Saídas possíveis:\n",
        "\n",
        "\n",
        "    elif \"nivel intermediario de abstracao\" in afirmacao:\n",
        "        return \"paas\"\n",
        "\n",
        "    elif \"nivel mais alto de abstracao\" in afirmacao:\n",
        "        return \"saas\"\n",
        "\n",
        "    elif \"acesso direto aos recursos de computacao\" in afirmacao:\n",
        "        return \"iaas\"\n",
        "\n",
        "# Imprime a categoria do serviço referenciada na afirmação recebida na \"entrada\" através da função \"escolher_categoria\".\n",
        "print(escolher_categoria(entrada))"
      ]
    },
    {
      "cell_type": "markdown",
      "source": [
        "Desafio 2: Identificando Responsabilidades: AWS e cliente na Segurança de nuvem"
      ],
      "metadata": {
        "id": "yUXRTa8xZ1gG"
      }
    },
    {
      "cell_type": "code",
      "source": [
        "# Recebe a Entrada do usuário e armazena na variável \"entrada\"\n",
        "entrada = input()\n",
        "\n",
        "\n",
        "# Função encarregada de receber uma responsabilidade e retornar o responsável por ela.\n",
        "def indicar_responsavel(responsabilidade):\n",
        "    if \"seguranca da nuvem\" in responsabilidade:\n",
        "        return \"AWS\"\n",
        "    elif \"seguranca na nuvem\" in responsabilidade:\n",
        "        return \"cliente\"\n",
        "\n",
        "    elif \"garantir que os dados estejam em conformidade com as leis\" in responsabilidade:\n",
        "        return \"cliente\"\n",
        "\n",
        "    elif \"proteger a infraestrutura que executa todos os servicos\" in responsabilidade:\n",
        "        return \"AWS\"\n",
        "\n",
        "# Imprime o responsável pela responsabilidade recebida na \"entrada\" através da função \"indicar_responsavel\".\n",
        "print(indicar_responsavel(entrada))"
      ],
      "metadata": {
        "id": "hrHessIkZ4jr"
      },
      "execution_count": null,
      "outputs": []
    },
    {
      "cell_type": "markdown",
      "source": [
        "Desafio 3: Grupos de Segurança vs ACLS de Rede"
      ],
      "metadata": {
        "id": "i26P7IUcZ74H"
      }
    },
    {
      "cell_type": "code",
      "source": [
        "# Recebe a Entrada do usuário e armazena na variável \"entrada\"\n",
        "entrada = input()\n",
        "\n",
        "\n",
        "# Função encarregada de receber um cenário e retornar se é mais apropriado usar um grupo de segurança ou uma ACL.\n",
        "def determinar_mecanismo_controle(cenario):\n",
        "    if \"uma aplicacao precisa permitir o trafego apenas na porta 80\" in cenario:\n",
        "        return \"grupo de seguranca\"\n",
        "\n",
        "    # TODO: Preencha corretamente, considerando as condições abaixo e Saídas possíveis:\n",
        "\n",
        "    elif \"uma sub-rede precisa bloquear todo o trafego de entrada\" in cenario:\n",
        "        return \"ACL de rede\"\n",
        "\n",
        "    elif \"bloquear trafego externo para instancias em uma sub-rede privada\" in cenario:\n",
        "        return \"ACL de rede\"\n",
        "\n",
        "    elif \"permitir acesso SSH a uma instancia somente para um endereço IP\" in cenario:\n",
        "        return \"grupo de seguranca\"\n",
        "\n",
        "# Imprime o mecanismo de controle indicado para o cenário fornecido na \"entrada\" através da função \"determinar_mecanismo_controle\".\n",
        "print(determinar_mecanismo_controle(entrada))"
      ],
      "metadata": {
        "id": "x-2BrmJBZ-hF"
      },
      "execution_count": null,
      "outputs": []
    },
    {
      "cell_type": "markdown",
      "source": [
        "Observação: A primeira vez que estiver fazendo o desafio 2, um erro ocorrerá por causa da saída, invés de ser:"
      ],
      "metadata": {
        "id": "wMtO1otZcHwD"
      }
    },
    {
      "cell_type": "code",
      "source": [
        "print(escolher_categoria(entrada))"
      ],
      "metadata": {
        "id": "lasZFQGQcIs0"
      },
      "execution_count": null,
      "outputs": []
    },
    {
      "cell_type": "markdown",
      "source": [
        "Estará:"
      ],
      "metadata": {
        "id": "3SKuKMU2cLTF"
      }
    },
    {
      "cell_type": "code",
      "source": [
        "print(escolher_categoria(responsabilidade))"
      ],
      "metadata": {
        "id": "Bm3CoWS2cOIs"
      },
      "execution_count": null,
      "outputs": []
    }
  ]
}